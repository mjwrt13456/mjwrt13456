{
 "cells": [
  {
   "cell_type": "code",
   "execution_count": 10,
   "id": "55afb2c5",
   "metadata": {},
   "outputs": [],
   "source": [
    "import requests\n",
    "from bs4 import BeautifulSoup"
   ]
  },
  {
   "cell_type": "code",
   "execution_count": 11,
   "id": "a96a7fcd",
   "metadata": {},
   "outputs": [],
   "source": [
    "def get_data(pageno):\n",
    "    url=('https://www.amazon.in/gp/bestsellers/books/ref=zg_bs_pg_'+str(pageno)+'?ie=UTF8&pg='+str(pageno))\n",
    "    r=requests.get(url)\n",
    "    html_content=r.content\n",
    "    soup=BeautifulSoup(html_content)\n",
    "    all=[]\n",
    "    for d in soup.find_all('div',attrs={'class':'a-section a-spacing-none aok-relative'}):\n",
    "        name=d.find('span', attrs={'class':'zg-text-center-align'})\n",
    "        book_name=name.find('img',alt=True)\n",
    "        author_name=d.find('a',attrs={'class':'a-size-small a-link-child'})\n",
    "        ratings=d.find('span',attrs={'class':'a-icon-alt'})\n",
    "        rating_score=d.find('a',attrs={'class':'a-size-small a-link-normal'})\n",
    "        book_type=d.find('span',attrs={'class':'a-size-small a-color-secondary'})\n",
    "        price=d.find('span',attrs={'class':'p13n-sc-price'})\n",
    "        book_link=d.find('a',attrs={'class':'a-link-normal'})\n",
    "        all1=[]\n",
    "        if book_name is not None:\n",
    "            all1.append(book_name.get('alt'))\n",
    "        else:\n",
    "            all1.append('unknown')\n",
    "        if author_name is not None:\n",
    "            all1.append(author_name.text)\n",
    "        else:\n",
    "            all1.append('unknown')\n",
    "        if ratings is not None:\n",
    "            all1.append(ratings.text)\n",
    "        else:\n",
    "            all1.append('unknown')\n",
    "        if rating_score is not None:\n",
    "            all1.append(rating_score.text)\n",
    "        else:\n",
    "            all1.append('unknown')\n",
    "        if book_type is not None:\n",
    "            all1.append(book_type.text)\n",
    "        else:\n",
    "            all1.append('unknown')\n",
    "        if price is not None:\n",
    "            all1.append(price.text)\n",
    "        else:\n",
    "            all1.append('unknown')\n",
    "        if book_link is not None:\n",
    "            all1.append('https://www.amazon.in/'+book_link.get('href'))\n",
    "        else:\n",
    "            all1.append('unknown')\n",
    "        all.append(all1)\n",
    "        \n",
    "    return all"
   ]
  },
  {
   "cell_type": "code",
   "execution_count": 12,
   "id": "5f5e9fae",
   "metadata": {},
   "outputs": [],
   "source": [
    "import pandas as pd\n",
    "results = []\n",
    "no_pages=5\n",
    "for i in range(1, no_pages+1):\n",
    "    results.append(get_data(i))\n"
   ]
  },
  {
   "cell_type": "code",
   "execution_count": 13,
   "id": "b335becf",
   "metadata": {},
   "outputs": [
    {
     "data": {
      "text/plain": [
       "'https://www.amazon.in//DO-EPIC-SHIT-Ankur-Warikoo/dp/9391165486?_encoding=UTF8&psc=1'"
      ]
     },
     "execution_count": 13,
     "metadata": {},
     "output_type": "execute_result"
    }
   ],
   "source": [
    "df.loc[0,'link']"
   ]
  },
  {
   "cell_type": "code",
   "execution_count": 14,
   "id": "a5643844",
   "metadata": {},
   "outputs": [],
   "source": [
    "flatten = lambda l: [item for sublist in l for item in sublist]\n",
    "df = pd.DataFrame(flatten(results),columns=['Book Name','Author','Rating','Customers_Rated', 'Book_type','Price','link'])"
   ]
  },
  {
   "cell_type": "code",
   "execution_count": 15,
   "id": "a5692566",
   "metadata": {},
   "outputs": [
    {
     "data": {
      "text/plain": [
       "(100, 7)"
      ]
     },
     "execution_count": 15,
     "metadata": {},
     "output_type": "execute_result"
    }
   ],
   "source": [
    "df.shape"
   ]
  },
  {
   "cell_type": "code",
   "execution_count": 16,
   "id": "e5c92402",
   "metadata": {},
   "outputs": [
    {
     "data": {
      "text/html": [
       "<div>\n",
       "<style scoped>\n",
       "    .dataframe tbody tr th:only-of-type {\n",
       "        vertical-align: middle;\n",
       "    }\n",
       "\n",
       "    .dataframe tbody tr th {\n",
       "        vertical-align: top;\n",
       "    }\n",
       "\n",
       "    .dataframe thead th {\n",
       "        text-align: right;\n",
       "    }\n",
       "</style>\n",
       "<table border=\"1\" class=\"dataframe\">\n",
       "  <thead>\n",
       "    <tr style=\"text-align: right;\">\n",
       "      <th></th>\n",
       "      <th>Book Name</th>\n",
       "      <th>Author</th>\n",
       "      <th>Rating</th>\n",
       "      <th>Customers_Rated</th>\n",
       "      <th>Book_type</th>\n",
       "      <th>Price</th>\n",
       "      <th>link</th>\n",
       "    </tr>\n",
       "  </thead>\n",
       "  <tbody>\n",
       "    <tr>\n",
       "      <th>0</th>\n",
       "      <td>DO EPIC SHIT</td>\n",
       "      <td>unknown</td>\n",
       "      <td>4.4 out of 5 stars</td>\n",
       "      <td>367</td>\n",
       "      <td>Hardcover</td>\n",
       "      <td>₹375.00</td>\n",
       "      <td>https://www.amazon.in//DO-EPIC-SHIT-Ankur-Wari...</td>\n",
       "    </tr>\n",
       "    <tr>\n",
       "      <th>1</th>\n",
       "      <td>Atomic Habits: The life-changing million copy ...</td>\n",
       "      <td>James Clear</td>\n",
       "      <td>4.6 out of 5 stars</td>\n",
       "      <td>28,688</td>\n",
       "      <td>Paperback</td>\n",
       "      <td>₹482.00</td>\n",
       "      <td>https://www.amazon.in//Atomic-Habits-James-Cle...</td>\n",
       "    </tr>\n",
       "    <tr>\n",
       "      <th>2</th>\n",
       "      <td>The Psychology of Money</td>\n",
       "      <td>Morgan Housel</td>\n",
       "      <td>4.6 out of 5 stars</td>\n",
       "      <td>22,696</td>\n",
       "      <td>Paperback</td>\n",
       "      <td>₹301.00</td>\n",
       "      <td>https://www.amazon.in//Psychology-Money-Morgan...</td>\n",
       "    </tr>\n",
       "    <tr>\n",
       "      <th>3</th>\n",
       "      <td>Ikigai: The Japanese secret to a long and happ...</td>\n",
       "      <td>Héctor García</td>\n",
       "      <td>4.6 out of 5 stars</td>\n",
       "      <td>27,217</td>\n",
       "      <td>Hardcover</td>\n",
       "      <td>₹299.00</td>\n",
       "      <td>https://www.amazon.in//Ikigai-H%C3%A9ctor-Garc...</td>\n",
       "    </tr>\n",
       "    <tr>\n",
       "      <th>4</th>\n",
       "      <td>Word Power Made Easy</td>\n",
       "      <td>Norman Lewis</td>\n",
       "      <td>4.4 out of 5 stars</td>\n",
       "      <td>32,897</td>\n",
       "      <td>Paperback</td>\n",
       "      <td>₹92.00</td>\n",
       "      <td>https://www.amazon.in//Word-Power-Made-Norman-...</td>\n",
       "    </tr>\n",
       "    <tr>\n",
       "      <th>...</th>\n",
       "      <td>...</td>\n",
       "      <td>...</td>\n",
       "      <td>...</td>\n",
       "      <td>...</td>\n",
       "      <td>...</td>\n",
       "      <td>...</td>\n",
       "      <td>...</td>\n",
       "    </tr>\n",
       "    <tr>\n",
       "      <th>95</th>\n",
       "      <td>Three Thousand Stitches: Ordinary People, Extr...</td>\n",
       "      <td>unknown</td>\n",
       "      <td>4.6 out of 5 stars</td>\n",
       "      <td>6,124</td>\n",
       "      <td>Paperback</td>\n",
       "      <td>₹212.00</td>\n",
       "      <td>https://www.amazon.in//Three-Thousand-Stitches...</td>\n",
       "    </tr>\n",
       "    <tr>\n",
       "      <th>96</th>\n",
       "      <td>Don't Lose Your Mind, Lose Your Weight</td>\n",
       "      <td>Rujuta Diwekar</td>\n",
       "      <td>4.4 out of 5 stars</td>\n",
       "      <td>5,863</td>\n",
       "      <td>Paperback</td>\n",
       "      <td>₹175.00</td>\n",
       "      <td>https://www.amazon.in//Dont-Lose-Your-Mind-Wei...</td>\n",
       "    </tr>\n",
       "    <tr>\n",
       "      <th>97</th>\n",
       "      <td>The Official Cambridge Guide To Ielts Student'...</td>\n",
       "      <td>unknown</td>\n",
       "      <td>4.4 out of 5 stars</td>\n",
       "      <td>4,224</td>\n",
       "      <td>Paperback</td>\n",
       "      <td>₹445.00</td>\n",
       "      <td>https://www.amazon.in//Official-Cambridge-Guid...</td>\n",
       "    </tr>\n",
       "    <tr>\n",
       "      <th>98</th>\n",
       "      <td>Ugly Love: A Novel</td>\n",
       "      <td>Colleen Hoover</td>\n",
       "      <td>4.6 out of 5 stars</td>\n",
       "      <td>8,632</td>\n",
       "      <td>Paperback</td>\n",
       "      <td>₹249.00</td>\n",
       "      <td>https://www.amazon.in//Ugly-Love-Novel-Colleen...</td>\n",
       "    </tr>\n",
       "    <tr>\n",
       "      <th>99</th>\n",
       "      <td>Shoe Dog: A Memoir by the Creator of NIKE</td>\n",
       "      <td>Phil Knight</td>\n",
       "      <td>4.6 out of 5 stars</td>\n",
       "      <td>17,578</td>\n",
       "      <td>Paperback</td>\n",
       "      <td>₹330.00</td>\n",
       "      <td>https://www.amazon.in//Shoe-Dog-Memoir-Creator...</td>\n",
       "    </tr>\n",
       "  </tbody>\n",
       "</table>\n",
       "<p>100 rows × 7 columns</p>\n",
       "</div>"
      ],
      "text/plain": [
       "                                            Book Name          Author  \\\n",
       "0                                        DO EPIC SHIT         unknown   \n",
       "1   Atomic Habits: The life-changing million copy ...     James Clear   \n",
       "2                             The Psychology of Money   Morgan Housel   \n",
       "3   Ikigai: The Japanese secret to a long and happ...   Héctor García   \n",
       "4                                Word Power Made Easy    Norman Lewis   \n",
       "..                                                ...             ...   \n",
       "95  Three Thousand Stitches: Ordinary People, Extr...         unknown   \n",
       "96             Don't Lose Your Mind, Lose Your Weight  Rujuta Diwekar   \n",
       "97  The Official Cambridge Guide To Ielts Student'...         unknown   \n",
       "98                                 Ugly Love: A Novel  Colleen Hoover   \n",
       "99          Shoe Dog: A Memoir by the Creator of NIKE     Phil Knight   \n",
       "\n",
       "                Rating Customers_Rated  Book_type    Price  \\\n",
       "0   4.4 out of 5 stars             367  Hardcover  ₹375.00   \n",
       "1   4.6 out of 5 stars          28,688  Paperback  ₹482.00   \n",
       "2   4.6 out of 5 stars          22,696  Paperback  ₹301.00   \n",
       "3   4.6 out of 5 stars          27,217  Hardcover  ₹299.00   \n",
       "4   4.4 out of 5 stars          32,897  Paperback   ₹92.00   \n",
       "..                 ...             ...        ...      ...   \n",
       "95  4.6 out of 5 stars           6,124  Paperback  ₹212.00   \n",
       "96  4.4 out of 5 stars           5,863  Paperback  ₹175.00   \n",
       "97  4.4 out of 5 stars           4,224  Paperback  ₹445.00   \n",
       "98  4.6 out of 5 stars           8,632  Paperback  ₹249.00   \n",
       "99  4.6 out of 5 stars          17,578  Paperback  ₹330.00   \n",
       "\n",
       "                                                 link  \n",
       "0   https://www.amazon.in//DO-EPIC-SHIT-Ankur-Wari...  \n",
       "1   https://www.amazon.in//Atomic-Habits-James-Cle...  \n",
       "2   https://www.amazon.in//Psychology-Money-Morgan...  \n",
       "3   https://www.amazon.in//Ikigai-H%C3%A9ctor-Garc...  \n",
       "4   https://www.amazon.in//Word-Power-Made-Norman-...  \n",
       "..                                                ...  \n",
       "95  https://www.amazon.in//Three-Thousand-Stitches...  \n",
       "96  https://www.amazon.in//Dont-Lose-Your-Mind-Wei...  \n",
       "97  https://www.amazon.in//Official-Cambridge-Guid...  \n",
       "98  https://www.amazon.in//Ugly-Love-Novel-Colleen...  \n",
       "99  https://www.amazon.in//Shoe-Dog-Memoir-Creator...  \n",
       "\n",
       "[100 rows x 7 columns]"
      ]
     },
     "execution_count": 16,
     "metadata": {},
     "output_type": "execute_result"
    }
   ],
   "source": [
    "df"
   ]
  },
  {
   "cell_type": "code",
   "execution_count": 9,
   "id": "abc77c2b",
   "metadata": {},
   "outputs": [
    {
     "data": {
      "text/plain": [
       "'Book Name,Author,Rating,Customers_Rated,Book_type,Price,link\\r\\nDO EPIC SHIT,unknown,4.4 out of 5 stars,367,Hardcover,₹375.00,https://www.amazon.in//DO-EPIC-SHIT-Ankur-Warikoo/dp/9391165486?_encoding=UTF8&psc=1\\r\\nAtomic Habits: The life-changing million copy bestseller,James Clear,4.6 out of 5 stars,\"28,688\",Paperback,₹482.00,https://www.amazon.in//Atomic-Habits-James-Clear/dp/1847941834?_encoding=UTF8&psc=1\\r\\nThe Psychology of Money,Morgan Housel,4.6 out of 5 stars,\"22,695\",Paperback,₹301.00,https://www.amazon.in//Psychology-Money-Morgan-Housel/dp/9390166268?_encoding=UTF8&psc=1\\r\\nIkigai: The Japanese secret to a long and happy life,Héctor García,4.6 out of 5 stars,\"27,217\",Hardcover,₹299.00,https://www.amazon.in//Ikigai-H%C3%A9ctor-Garc%C3%ADa/dp/178633089X?_encoding=UTF8&psc=1\\r\\nWord Power Made Easy,Norman Lewis,4.4 out of 5 stars,\"32,897\",Paperback,₹92.00,https://www.amazon.in//Word-Power-Made-Norman-Lewis/dp/0143424688?_encoding=UTF8&psc=1\\r\\nRich Dad Poor Dad: What the Rich Teach Their Kids About Money That the Poor and Middle Class Do Not!,Robert T. Kiyosaki,4.6 out of 5 stars,\"50,611\",Mass Market Paperback,₹302.00,https://www.amazon.in//Rich-Dad-Poor-Middle-Updates/dp/1612680194?_encoding=UTF8&psc=1\\r\\n\"Grandma\\'s Bag of Stories: Collection of 20+ Illustrated short stories, traditional Indian folk tales for all ages for…\",unknown,4.6 out of 5 stars,\"11,558\",Paperback,₹186.00,https://www.amazon.in//Grandmas-Bag-Stories-Sudha-Murty/dp/0143333623?_encoding=UTF8&psc=1\\r\\n\"Life\\'s Amazing Secrets: How to Find Balance and Purpose in Your Life | Inspirational Zen book on motivation, self…\",Gaur Gopal Das,4.6 out of 5 stars,\"13,173\",Paperback,₹147.00,https://www.amazon.in//Lifes-Amazing-Secrets-Balance-Purpose/dp/0143442295?_encoding=UTF8&psc=1\\r\\nIt Ends With Us: A Novel,Colleen Hoover,4.6 out of 5 stars,\"20,430\",Paperback,₹297.00,https://www.amazon.in//Ends-Us-Novel-Colleen-Hoover/dp/1501110365?_encoding=UTF8&psc=1\\r\\nThe Subtle Art of Not Giving a F*ck: A Counterintuitive Approach to Living a Good Life,Mark Manson,4.5 out of 5 stars,\"54,428\",Paperback,₹287.00,https://www.amazon.in//Subtle-Art-Not-Giving/dp/0062641549?_encoding=UTF8&psc=1\\r\\nThe Power of Your Subconscious Mind,Joseph Murphy,4.5 out of 5 stars,\"46,086\",Paperback,₹125.00,https://www.amazon.in//Power-Your-Subconscious-Mind/dp/8194790832?_encoding=UTF8&psc=1\\r\\n27 Years UPSC IAS/ IPS Prelims Topic-wise Solved Papers 1 & 2 (1995 - 2021) 12th Edition,unknown,4.5 out of 5 stars,277,Paperback,₹369.00,https://www.amazon.in//Years-Prelims-Topic-wise-Solved-Papers/dp/9355640005?_encoding=UTF8&psc=1\\r\\nMy First Library: Boxset of 10 Board Books for Kids,Wonder House Books,4.5 out of 5 stars,\"41,917\",Board book,₹349.00,https://www.amazon.in//My-First-Library-Boxset-Board/dp/9387779262?_encoding=UTF8&psc=1\\r\\n400 Days,Chetan Bhagat,4.4 out of 5 stars,\"4,241\",Paperback,₹155.00,https://www.amazon.in//400-Days-Chetan-Bhagat/dp/1542094089?_encoding=UTF8&psc=1\\r\\nThe Alchemist,Paulo Coelho,4.6 out of 5 stars,\"65,560\",Paperback,₹229.00,https://www.amazon.in//Alchemist-Paulo-Coelho/dp/8172234988?_encoding=UTF8&psc=1\\r\\nAttitude Is Everything: Change Your Attitude ... Change Your Life!,Jeff Keller,4.5 out of 5 stars,\"15,370\",Paperback,₹134.00,https://www.amazon.in//Attitude-Everything-Change-Your-Life/dp/9351772071?_encoding=UTF8&psc=1\\r\\n\"Karma: A Yogi\\'s Guide to Crafting Your Destiny | Spirituality, Self-improvement & Self help books by Sadhguru | Penguin\",Sadhguru,4.7 out of 5 stars,\"6,685\",Paperback,₹148.00,https://www.amazon.in//Karma-PUBLISHERS-BESTSELLER-spirituality-self-improvement/dp/0143452673?_encoding=UTF8&psc=1\\r\\nThe Almanack Of Naval Ravikant: A Guide to Wealth and Happiness,Eric Jorgenson,4.7 out of 5 stars,\"2,706\",Paperback,₹225.00,https://www.amazon.in//Almanack-Naval-Ravikant-Wealth-Happiness/dp/9354893899?_encoding=UTF8&psc=1\\r\\nQuantitative Aptitude for Competitive Examinations,R S Aggarwal,4.4 out of 5 stars,\"22,082\",Paperback,₹467.00,https://www.amazon.in//Quantitative-Aptitude-Competitive-Examinations-Aggarwal/dp/9352534026?_encoding=UTF8&psc=1\\r\\nMy First Book of Pencil Control : Practice Pattern Writing (Full Color Pages): Patterns Practice book for kids (Pattern…,unknown,4.4 out of 5 stars,\"13,452\",Paperback,₹89.00,https://www.amazon.in//First-Book-Patterns-Pencil-Control/dp/9387779319?_encoding=UTF8&psc=1\\r\\nWorld’s Greatest Books For Personal Growth & Wealth (Set of 4 Books): Perfect Motivational Gift Set,unknown,4.5 out of 5 stars,\"15,852\",Paperback,₹299.00,https://www.amazon.in//Worlds-Greatest-Personal-Growth-Wealth/dp/9389432014?_encoding=UTF8&psc=1\\r\\nGeneral Knowledge,unknown,4.4 out of 5 stars,\"17,806\",Paperback,₹168.00,https://www.amazon.in//General-Knowledge-Dr-Binay-Karna/dp/9384761540?_encoding=UTF8&psc=1\\r\\nEat That Frog!: 21 Great Ways to Stop Procrastinating and Get More Done in Less Time,Brian Tracy,4.6 out of 5 stars,\"4,467\",Paperback,₹146.00,https://www.amazon.in//Eat-That-Frog-Great-Procrastinating/dp/152309513X?_encoding=UTF8&psc=1\\r\\nHow to Win Friends and Influence People,Dale Carnegie,4.5 out of 5 stars,\"53,506\",Paperback,₹78.00,https://www.amazon.in//How-Win-Friends-Influence-People/dp/8129140179?_encoding=UTF8&psc=1\\r\\nAs a Man Thinketh,James Allen,4.4 out of 5 stars,\"6,256\",Paperback,₹59.00,https://www.amazon.in//As-Man-Thinketh-James-Allen/dp/9386538172?_encoding=UTF8&psc=1\\r\\nThe Intelligent Investor (English) Paperback – 2013,Benjamin Graham,4.5 out of 5 stars,\"29,666\",Paperback,₹484.00,https://www.amazon.in//Intelligent-Investor-English-Paperback-2013/dp/0062312685?_encoding=UTF8&psc=1\\r\\nMoral Story Books for Kids (Pack of 10 Books) | 160 Total Pages | Illustrated Stories,unknown,4.3 out of 5 stars,\"3,206\",Paperback,₹225.00,https://www.amazon.in//Moral-Story-Books-Illustrated-Stories/dp/9381569886?_encoding=UTF8&psc=1\\r\\nSapiens: A Brief History of Humankind,Yuval Noah Harari,4.7 out of 5 stars,\"39,612\",Paperback,₹372.00,https://www.amazon.in//Sapiens-Humankind-Yuval-Noah-Harari/dp/0099590085?_encoding=UTF8&psc=1\\r\\nGeneral Knowledge 2022,Manohar Pandey,4.3 out of 5 stars,\"1,813\",Paperback,₹195.00,https://www.amazon.in//General-Knowledge-2022-Manohar-Pandey/dp/932529558X?_encoding=UTF8&psc=1\\r\\n\"My First Mythology Tale (Illustrated) (Set of 5 Books) - Mahabharata, Krishna, Hanuman, Ganesha, Ramayana - Story Book…\",Maple Press,4.4 out of 5 stars,\"2,833\",Paperback,₹191.00,https://www.amazon.in//First-Mythology-Tale-Illustrated-Books/dp/9390292964?_encoding=UTF8&psc=1\\r\\nManorama English Yearbook 2022,unknown,5.0 out of 5 stars,3,Hardcover,₹278.00,https://www.amazon.in//Manorama-English-Yearbook-Mammen-Mathew/dp/8195407277?_encoding=UTF8&psc=1\\r\\nVery First Sight Words Sentences Level 1,Dreamland Publications,4.5 out of 5 stars,\"7,949\",Paperback,₹110.00,https://www.amazon.in//First-Sight-Words-Sentences-Level/dp/9387971996?_encoding=UTF8&psc=1&smid=AT95IG9ONZD7S\\r\\nPicture Books Collection for Early Learning (Set of 12),unknown,4.2 out of 5 stars,\"13,127\",Cards,₹220.00,https://www.amazon.in//Picture-Books-Collection-Early-Learning/dp/B01M0QGF0P?_encoding=UTF8&psc=1&smid=A3AYVXJSQ9BMLM\\r\\nThink Like a Monk: The secret of how to harness the power of positivity and be happy now,Jay Shetty,4.6 out of 5 stars,\"19,332\",Paperback,₹320.00,https://www.amazon.in//Think-Like-Monk-Jay-Shetty/dp/0008386595?_encoding=UTF8&psc=1\\r\\n\"India that is Bharat: Coloniality, Civilisation, Constitution\",J Sai Deepak,4.8 out of 5 stars,\"2,019\",Hardcover,₹509.00,https://www.amazon.in//India-that-Bharat-Civilisation-Constitution/dp/9354352499?_encoding=UTF8&psc=1\\r\\nThe Richest Man in Babylon,George S. Clason,4.5 out of 5 stars,\"23,857\",Paperback,₹99.00,https://www.amazon.in//Richest-Man-Babylon-George-Clason/dp/9388144317?_encoding=UTF8&psc=1\\r\\nDiary of a Wimpy Kid: Big Shot (Book 16),Jeff Kinney,4.7 out of 5 stars,599,Hardcover,₹277.00,https://www.amazon.in//Diary-Wimpy-Kid-Book-16/dp/024145414X?_encoding=UTF8&psc=1\\r\\nA Modern Approach To Verbal & Non-Verbal Reasoning (2 Colour Edition),R.S. Aggarwal,4.4 out of 5 stars,\"9,942\",Paperback,₹552.00,https://www.amazon.in//Modern-Approach-Verbal-Non-Verbal-Reasoning/dp/9352832167?_encoding=UTF8&psc=1\\r\\nHarry Potter and the Philosopher\\'s Stone,J.K. Rowling,4.7 out of 5 stars,\"32,514\",Paperback,₹298.00,https://www.amazon.in//Harry-Potter-Philosophers-Stone-Rowling/dp/1408855658?_encoding=UTF8&psc=1\\r\\n101 Panchatantra Stories for Children: Colourful Illustrated Stories,Om Books Editorial Team,4.5 out of 5 stars,\"5,633\",Paperback,₹135.00,https://www.amazon.in//101-Panchatantra-Stories-Children-Illustrated/dp/935376517X?_encoding=UTF8&psc=1\\r\\nMan\\'s Search For Meaning: The classic tribute to hope from the Holocaust,Viktor E Frankl,4.5 out of 5 stars,\"36,347\",Paperback,₹238.00,https://www.amazon.in//Mans-Search-Meaning-Viktor-Frankl/dp/1846041244?_encoding=UTF8&psc=1\\r\\nThe Power of Your Subconscious Mind,Joseph Murphy,4.5 out of 5 stars,\"46,086\",Paperback,₹99.00,https://www.amazon.in//Power-Your-Subconscious-Mind-Success/dp/8172345666?_encoding=UTF8&psc=1\\r\\nIndian Polity - For Civil Services and Other State Examinations | 6th Edition,M. Laxmikanth,4.6 out of 5 stars,\"18,577\",Paperback,₹641.00,https://www.amazon.in//Indian-Polity-Civil-Services-Examinations/dp/B07Y3CJJCR?_encoding=UTF8&psc=1\\r\\nHarry Potter Box Set: The Complete Collection (Set of 7 Volumes),J.K. Rowling,4.7 out of 5 stars,\"28,704\",Paperback,\"₹2,183.00\",https://www.amazon.in//Harry-Potter-ChildrenS-Paperback-Boxed/dp/1408856778?_encoding=UTF8&psc=1\\r\\nWuthering Heights,Emily Brontë,4.5 out of 5 stars,\"14,588\",Paperback,₹99.00,https://www.amazon.in//Wuthering-Heights-Emily-Bront%C3%AB/dp/8172344899?_encoding=UTF8&psc=1\\r\\n\"Oswaal CBSE Question Bank Chapterwise For Term 2, Class 10 (Set of 4 Books) English Language & Literature, Science…\",unknown,4.8 out of 5 stars,56,Product Bundle,₹847.00,https://www.amazon.in//Question-Chapterwise-Language-Literature-Standard/dp/9354236782?_encoding=UTF8&psc=1\\r\\nThe Compound Effect,Darren Hardy,4.6 out of 5 stars,\"3,146\",Paperback,₹180.00,https://www.amazon.in//Compound-Effect-Darren-Hardy/dp/9390924634?_encoding=UTF8&psc=1\\r\\nDeath; An Inside Story: A book for all those who shall die,Sadhguru,4.7 out of 5 stars,\"8,151\",Paperback,₹148.00,https://www.amazon.in//Death-Inside-Story-those-shall/dp/0143450832?_encoding=UTF8&psc=1\\r\\n\"Educart TERM 2 Objective & Subjective CBSE Question Bank Bundle - Maths, Science, English & SST For Class 10 Of 2022…\",unknown,4.8 out of 5 stars,19,Product Bundle,₹621.00,https://www.amazon.in//Educart-Objective-Subjective-Question-Bundle/dp/B09NRKXHSK?_encoding=UTF8&psc=1\\r\\nGrandparents\\' Bag of Stories,unknown,4.7 out of 5 stars,\"2,324\",Paperback,₹140.00,https://www.amazon.in//Grandparents-Bag-Stories-Sudha-Murty/dp/0143451847?_encoding=UTF8&psc=1\\r\\n\"Tirumala Tirupati Devasthanams Tirupati 130 GSM Deluxe Paper Dairy, Big ,432 Pages (Multicolor)\",unknown,4.6 out of 5 stars,30,unknown,₹315.00,https://www.amazon.in//Tirumala-Tirupati-Devasthanams-Deluxe-Multicolor/dp/B09CKVM4YW?_encoding=UTF8&psc=1\\r\\nHow to Win Friends and Influence People,Dale Carnegie,4.5 out of 5 stars,\"53,506\",Paperback,₹99.00,https://www.amazon.in//How-Win-Friends-Influence-People/dp/8194790891?_encoding=UTF8&psc=1\\r\\n\"Brain Games for Clever Kids: Puzzles to Exercise Your Mind (Buster Brain Games, 1)\",unknown,4.3 out of 5 stars,\"6,684\",Paperback,₹199.00,https://www.amazon.in//Brain-Games-Clever-Kids-Buster/dp/1780552491?_encoding=UTF8&psc=1\\r\\nWho Will Cry When You Die?,Robin Sharma,4.5 out of 5 stars,\"13,149\",Paperback,₹135.00,https://www.amazon.in//Who-Will-Cry-When-You/dp/8179922324?_encoding=UTF8&psc=1\\r\\n\"MTG Objective NCERT at your FINGERTIPS - Biology, Best NEET Books (Based on NCERT Pattern - Latest & Revised Edition…\",unknown,4.6 out of 5 stars,\"6,678\",Paperback,₹599.00,https://www.amazon.in//MTG-Objective-NCERT-your-FINGERTIPS/dp/9391191789?_encoding=UTF8&psc=1\\r\\n\"My Life in Full: Work, Family, and Our Future (With a special Epilogue for India)\",unknown,4.6 out of 5 stars,\"1,165\",Hardcover,₹471.00,https://www.amazon.in//My-Life-Full-special-Epilogue/dp/9389253810?_encoding=UTF8&psc=1\\r\\n\"My First Library of Learning: Box set, Complete collection of 10 early learning board books for super kids, 0 to 3 | ABC…\",unknown,4.5 out of 5 stars,121,Board book,₹368.00,https://www.amazon.in//First-Library-Learning-collection-homeschooling/dp/0143452762?_encoding=UTF8&psc=1\\r\\nDeep Work: Rules for Focused Success in a Distracted World,Cal Newport,4.5 out of 5 stars,\"9,314\",Paperback,₹325.00,https://www.amazon.in//Deep-Work-Focused-Success-Distracted/dp/0349413681?_encoding=UTF8&psc=1\\r\\n\"The Magic of the Lost Temple: Illustrated, easy to read and much-loved first full length children’s fiction novel by…\",unknown,4.7 out of 5 stars,\"5,289\",Paperback,₹174.00,https://www.amazon.in//Magic-Lost-Temple-Sudha-Murty/dp/014333316X?_encoding=UTF8&psc=1\\r\\n\"The 5 AM Club: Own Your Morning, Elevate Your Life\",Robin Sharma,4.5 out of 5 stars,\"16,457\",Paperback,₹238.00,https://www.amazon.in//AM-Club-Your-Morning-Elevate/dp/9387944891?_encoding=UTF8&psc=1\\r\\nColour With Crayons Book 1 for Kids Age 1 -6 Years - Drawing and Colouring Book for Early Learners,unknown,4.2 out of 5 stars,\"4,885\",Paperback,₹49.00,https://www.amazon.in//Colour-Crayons-Part-Dreamland-Publications/dp/1730175066?_encoding=UTF8&psc=1\\r\\n\"Writing Practice Boxset: Pack of 4 Books (Writing Fun: Write and Practice Capital Letters, Small Letters, Patterns and…\",Wonder House Books,4.3 out of 5 stars,\"7,294\",Paperback,₹159.00,https://www.amazon.in//Writing-Fun-Set-Books-Practice/dp/9387779777?_encoding=UTF8&psc=1\\r\\nThe Monk Who Sold His Ferrari,Robin Sharma,4.5 out of 5 stars,\"19,131\",Paperback,₹151.00,https://www.amazon.in//Monk-Who-Sold-His-Ferrari/dp/817992162X?_encoding=UTF8&psc=1\\r\\nRich Dad Poor Dad - 20Th Anniversary Edition - Hindi,Robert T. Kiyosaki,4.5 out of 5 stars,\"8,968\",Paperback,₹291.00,https://www.amazon.in//Rich-Dad-Poor-Robert-Kiyosaki/dp/8186775218?_encoding=UTF8&psc=1\\r\\nCelebrating Life: 6 Steps to the Complete Blossoming of Your Consciousness,unknown,4.7 out of 5 stars,289,Paperback,₹215.00,https://www.amazon.in//Celebrating-Life-Complete-Blossoming-Consciousness/dp/0143450689?_encoding=UTF8&psc=1\\r\\nGreat Stories for Children,Ruskin Bond,4.5 out of 5 stars,\"8,295\",Paperback,₹122.00,https://www.amazon.in//Great-Stories-Children-Ruskin-Bond/dp/8129118920?_encoding=UTF8&psc=1\\r\\nThink and Grow Rich,Napoleon Hill,4.5 out of 5 stars,\"60,158\",Paperback,₹149.00,https://www.amazon.in//Think-Grow-Rich-Napoleon-Hill/dp/8192910911?_encoding=UTF8&psc=1\\r\\nOne Arranged Murder,Chetan Bhagat,4.4 out of 5 stars,\"16,686\",Paperback,₹150.00,https://www.amazon.in//One-Arranged-Murder-Chetan-Bhagat/dp/1542094135?_encoding=UTF8&psc=1\\r\\nThink & Grow Rich (Hindi),Napoleon Hill,4.3 out of 5 stars,\"3,456\",Paperback,₹106.00,https://www.amazon.in//Think-Grow-Rich-Hindi-Napoleon/dp/8175993561?_encoding=UTF8&psc=1\\r\\nIndian Polity For Civil Services and Other State Examinations| 6th Revised Edition,M Laxmikanth,4.4 out of 5 stars,302,Paperback,₹692.00,https://www.amazon.in//Indian-Polity-Services-Examinations-Revised/dp/9354600352?_encoding=UTF8&psc=1\\r\\nApke Avchetan Man Ki Shakti (The Power of your Subconscious Mind in Hindi),Joseph Murphy,4.4 out of 5 stars,\"8,113\",Paperback,₹99.00,https://www.amazon.in//Avchetan-Shakti-Power-Subconscious-Hindi/dp/8175993669?_encoding=UTF8&psc=1\\r\\nLORDS OF THE DECCAN : Southern India from the Chalukyas to the Cholas,unknown,unknown,unknown,Hardcover,₹590.00,https://www.amazon.in//LORDS-DECCAN-Southern-Chalukyas-Cholas/dp/9391165052?_encoding=UTF8&psc=1\\r\\n\"My First 1000 Words: Early Learning Picture Book to Learn Alphabet, Numbers, Shapes and Colours, Transport, Birds and…\",Wonder House Books,4.5 out of 5 stars,\"4,747\",Paperback,₹149.00,https://www.amazon.in//First-1000-Words-Transport-Professions/dp/9388144112?_encoding=UTF8&psc=1\\r\\nA Brief History of Modern India (2019-2020 Edition) by Spectrum Books,unknown,4.5 out of 5 stars,\"9,885\",Paperback,₹352.00,https://www.amazon.in//Brief-History-Modern-2019-2020-Spectrum/dp/8179307212?_encoding=UTF8&psc=1\\r\\nHow to Talk to Anyone: 92 Little Tricks for Big Success in Relationships,Leil Lowndes,4.4 out of 5 stars,\"4,407\",Paperback,₹220.00,https://www.amazon.in//How-Talk-Anyone-Success-Relationships/dp/0007272618?_encoding=UTF8&psc=1\\r\\n\"Zero to One: Notes on Start Ups, or How to Build the Future\",Peter Thiel,4.5 out of 5 stars,\"9,413\",Paperback,₹379.00,https://www.amazon.in//Zero-One-Start-Build-Future/dp/0753555190?_encoding=UTF8&psc=1\\r\\nThe Blue Umbrella,Ruskin Bond,4.5 out of 5 stars,\"9,665\",Paperback,₹95.00,https://www.amazon.in//Blue-Umbrella-Ruskin-Bond/dp/8171673406?_encoding=UTF8&psc=1\\r\\nTHE PSYCHOLOGY OF MONEY (DELUXE EDITION),Morgan Housel,4.6 out of 5 stars,\"22,695\",Hardcover,₹466.00,https://www.amazon.in//PSYCHOLOGY-MONEY-DELUXE-Morgan-Housel/dp/9390166934?_encoding=UTF8&psc=1\\r\\nMTG 34 Years NEET Previous Year Solved Question Papers with NEET Chapterwise Topicwise Solutions - NEET 2022 Preparation…,unknown,4.3 out of 5 stars,134,Product Bundle,₹569.00,https://www.amazon.in//Previous-Question-Chapterwise-Topicwise-Solutions/dp/B09HTLGSQF?_encoding=UTF8&psc=1\\r\\nPride & Prejudice,Jane Austen,4.5 out of 5 stars,\"24,162\",Paperback,₹101.00,https://www.amazon.in//Pride-Prejudice-Jane-Austen/dp/8172344503?_encoding=UTF8&psc=1\\r\\nThe Complete Novels of Sherlock Holmes,Arthur Conan Doyle,4.5 out of 5 stars,\"11,583\",Paperback,₹136.00,https://www.amazon.in//Complete-Novels-Sherlock-Holmes/dp/8175994312?_encoding=UTF8&psc=1\\r\\nBest of Children’s Classics (Set of 5 Books): Perfect Gift Set for Kids,unknown,4.4 out of 5 stars,\"2,965\",Paperback,₹459.00,https://www.amazon.in//Best-Childrens-Classics-Set-Books/dp/9389432006?_encoding=UTF8&psc=1\\r\\nCoffee Can Investing: The Low Risk Road to Stupendous Wealth,Saurabh Mukherjea,4.5 out of 5 stars,\"2,476\",Hardcover,₹326.00,https://www.amazon.in//Coffee-Can-Investing-Stupendous-Wealth/dp/067009045X?_encoding=UTF8&psc=1\\r\\nInner Engineering: A Yogi’s Guide to Joy - English,Sadhguru,4.6 out of 5 stars,\"13,012\",Paperback,₹219.00,https://www.amazon.in//Inner-Engineering-Yogis-Guide-Joy/dp/0143428845?_encoding=UTF8&psc=1\\r\\nSpoken English Course (Telugu),unknown,4.3 out of 5 stars,\"4,188\",Paperback,₹299.00,https://www.amazon.in//Spoken-English-Course-Telugu-Vashista/dp/B08W1SNNLP?_encoding=UTF8&psc=1\\r\\nBrijbhoomi Books And Handicrafts® Bhagavad Gita: Yatharoop,unknown,4.8 out of 5 stars,\"10,495\",Hardcover,₹230.00,https://www.amazon.in//Bhagavad-Gita-Bhaktivendanta-Swami-Prabhupada/dp/938598618X?_encoding=UTF8&psc=1\\r\\nWren & Martin High School English Grammar And Composition Book (Regular Edition),Rao N,4.5 out of 5 stars,\"7,708\",Paperback,₹313.00,https://www.amazon.in//School-English-Grammar-Composition-Regular/dp/9352530144?_encoding=UTF8&psc=1\\r\\nBhagavad Gita Original in English - Bhagavad Gita as It is Original in English,unknown,4.8 out of 5 stars,\"2,621\",Hardcover,₹210.00,https://www.amazon.in//Bhagavad-Gita-Original-English-As/dp/B07MDTX8BR?_encoding=UTF8&psc=1\\r\\nMandala Art: Colouring Books for Adults with Tear Out Sheets (Adult Colouring Book),Wonder House Books,4.6 out of 5 stars,\"3,277\",Paperback,₹129.00,https://www.amazon.in//Mandala-Art-Colouring-Adults-Sheets/dp/9386538601?_encoding=UTF8&psc=1\\r\\n\"The Silent Patient: The record-breaking, multimillion copy Sunday Times bestselling thriller and Richard & Judy book…\",Alex Michaelides,4.5 out of 5 stars,\"78,876\",Paperback,₹330.00,https://www.amazon.in//Silent-Patient-Alex-Michaelides/dp/1409181634?_encoding=UTF8&psc=1\\r\\nThe Theory of Everything: The Origin and Fate of the Universe,Stephen Hawking,4.6 out of 5 stars,\"9,241\",Paperback,₹169.00,https://www.amazon.in//Theory-Everything-Stephen-Hawking/dp/8179925919?_encoding=UTF8&psc=1\\r\\nI Came Upon a Lighthouse: A Short Memoir of Life with Ratan Tata,unknown,4.7 out of 5 stars,980,Hardcover,₹379.00,https://www.amazon.in//Came-Upon-Lighthouse-Short-Memoir/dp/9390327520?_encoding=UTF8&psc=1\\r\\nTime Management (Hindi),unknown,4.4 out of 5 stars,\"5,548\",Paperback,₹79.00,https://www.amazon.in//Time-Management-Hindi-Sudhir-Dixit/dp/8183220185?_encoding=UTF8&psc=1\\r\\nBhagvad Gita As It Is English New Edition,unknown,4.7 out of 5 stars,\"6,811\",Hardcover,₹235.00,https://www.amazon.in//Bhagvad-gita-as-english-new/dp/9384564192?_encoding=UTF8&psc=1\\r\\nAutobiography of a Yogi,Paramahansa Yogananda,4.6 out of 5 stars,\"6,076\",Paperback,₹99.00,https://www.amazon.in//Autobiography-Yogi-Paramahansa-Yogananda/dp/8172345364?_encoding=UTF8&psc=1\\r\\n\"Three Thousand Stitches: Ordinary People, Extraordinary Lives\",unknown,4.6 out of 5 stars,\"6,124\",Paperback,₹212.00,https://www.amazon.in//Three-Thousand-Stitches-Ordinary-Extraordinary/dp/0143440055?_encoding=UTF8&psc=1\\r\\n\"Don\\'t Lose Your Mind, Lose Your Weight\",Rujuta Diwekar,4.4 out of 5 stars,\"5,863\",Paperback,₹175.00,https://www.amazon.in//Dont-Lose-Your-Mind-Weight/dp/8184001053?_encoding=UTF8&psc=1\\r\\nThe Official Cambridge Guide To Ielts Student\\'s Book With Answers With Dvd Rom,unknown,4.4 out of 5 stars,\"4,224\",Paperback,₹445.00,https://www.amazon.in//Official-Cambridge-Guide-Students-Answers/dp/110744277X?_encoding=UTF8&psc=1\\r\\nUgly Love: A Novel,Colleen Hoover,4.6 out of 5 stars,\"8,632\",Paperback,₹249.00,https://www.amazon.in//Ugly-Love-Novel-Colleen-Hoover/dp/1476753180?_encoding=UTF8&psc=1\\r\\nShoe Dog: A Memoir by the Creator of NIKE,Phil Knight,4.6 out of 5 stars,\"17,578\",Paperback,₹330.00,https://www.amazon.in//Shoe-Dog-Memoir-Creator-NIKE/dp/1471146723?_encoding=UTF8&psc=1\\r\\n'"
      ]
     },
     "execution_count": 9,
     "metadata": {},
     "output_type": "execute_result"
    }
   ],
   "source": [
    "df.to_csv(index=False)"
   ]
  },
  {
   "cell_type": "code",
   "execution_count": null,
   "id": "16c45f3b",
   "metadata": {},
   "outputs": [],
   "source": []
  },
  {
   "cell_type": "code",
   "execution_count": null,
   "id": "f44399ca",
   "metadata": {},
   "outputs": [],
   "source": []
  },
  {
   "cell_type": "code",
   "execution_count": null,
   "id": "4f79bf62",
   "metadata": {},
   "outputs": [],
   "source": []
  }
 ],
 "metadata": {
  "kernelspec": {
   "display_name": "Python 3",
   "language": "python",
   "name": "python3"
  },
  "language_info": {
   "codemirror_mode": {
    "name": "ipython",
    "version": 3
   },
   "file_extension": ".py",
   "mimetype": "text/x-python",
   "name": "python",
   "nbconvert_exporter": "python",
   "pygments_lexer": "ipython3",
   "version": "3.8.8"
  }
 },
 "nbformat": 4,
 "nbformat_minor": 5
}
